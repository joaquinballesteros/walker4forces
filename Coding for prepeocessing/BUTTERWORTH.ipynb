{
 "cells": [
  {
   "cell_type": "code",
   "execution_count": 2,
   "id": "1e0d3bfa",
   "metadata": {},
   "outputs": [
    {
     "data": {
      "text/html": [
       "<div>\n",
       "<style scoped>\n",
       "    .dataframe tbody tr th:only-of-type {\n",
       "        vertical-align: middle;\n",
       "    }\n",
       "\n",
       "    .dataframe tbody tr th {\n",
       "        vertical-align: top;\n",
       "    }\n",
       "\n",
       "    .dataframe thead th {\n",
       "        text-align: right;\n",
       "    }\n",
       "</style>\n",
       "<table border=\"1\" class=\"dataframe\">\n",
       "  <thead>\n",
       "    <tr style=\"text-align: right;\">\n",
       "      <th></th>\n",
       "      <th>Date and Time</th>\n",
       "      <th>Time (s)</th>\n",
       "      <th>Force 1 (N)</th>\n",
       "      <th>Force 2 (N)</th>\n",
       "      <th>Force 3 (N)</th>\n",
       "      <th>Force 4 (N)</th>\n",
       "    </tr>\n",
       "  </thead>\n",
       "  <tbody>\n",
       "    <tr>\n",
       "      <th>0</th>\n",
       "      <td>8/8/2018 15:20</td>\n",
       "      <td>0.00</td>\n",
       "      <td>-0.61</td>\n",
       "      <td>-0.30</td>\n",
       "      <td>0.14</td>\n",
       "      <td>0.53</td>\n",
       "    </tr>\n",
       "    <tr>\n",
       "      <th>1</th>\n",
       "      <td>8/8/2018 15:20</td>\n",
       "      <td>0.05</td>\n",
       "      <td>-0.25</td>\n",
       "      <td>-0.34</td>\n",
       "      <td>0.27</td>\n",
       "      <td>0.55</td>\n",
       "    </tr>\n",
       "    <tr>\n",
       "      <th>2</th>\n",
       "      <td>8/8/2018 15:20</td>\n",
       "      <td>0.10</td>\n",
       "      <td>-0.07</td>\n",
       "      <td>-0.02</td>\n",
       "      <td>0.45</td>\n",
       "      <td>0.05</td>\n",
       "    </tr>\n",
       "    <tr>\n",
       "      <th>3</th>\n",
       "      <td>8/8/2018 15:20</td>\n",
       "      <td>0.15</td>\n",
       "      <td>0.77</td>\n",
       "      <td>0.21</td>\n",
       "      <td>0.33</td>\n",
       "      <td>1.21</td>\n",
       "    </tr>\n",
       "    <tr>\n",
       "      <th>4</th>\n",
       "      <td>8/8/2018 15:20</td>\n",
       "      <td>0.20</td>\n",
       "      <td>1.23</td>\n",
       "      <td>0.98</td>\n",
       "      <td>2.44</td>\n",
       "      <td>1.15</td>\n",
       "    </tr>\n",
       "  </tbody>\n",
       "</table>\n",
       "</div>"
      ],
      "text/plain": [
       "    Date and Time  Time (s)  Force 1 (N)  Force 2 (N)  Force 3 (N)  \\\n",
       "0  8/8/2018 15:20      0.00        -0.61        -0.30         0.14   \n",
       "1  8/8/2018 15:20      0.05        -0.25        -0.34         0.27   \n",
       "2  8/8/2018 15:20      0.10        -0.07        -0.02         0.45   \n",
       "3  8/8/2018 15:20      0.15         0.77         0.21         0.33   \n",
       "4  8/8/2018 15:20      0.20         1.23         0.98         2.44   \n",
       "\n",
       "   Force 4 (N)  \n",
       "0         0.53  \n",
       "1         0.55  \n",
       "2         0.05  \n",
       "3         1.21  \n",
       "4         1.15  "
      ]
     },
     "execution_count": 2,
     "metadata": {},
     "output_type": "execute_result"
    }
   ],
   "source": [
    "import pandas as pd\n",
    "dataset = pd.read_csv(\"MUKHTAR HSIII.csv\")\n",
    "dataset.head()"
   ]
  },
  {
   "cell_type": "code",
   "execution_count": 5,
   "id": "26f327ea",
   "metadata": {},
   "outputs": [],
   "source": [
    "import numpy as np\n",
    "from scipy.signal import butter, lfilter, freqz\n",
    "import matplotlib.pyplot as plt"
   ]
  },
  {
   "cell_type": "code",
   "execution_count": 6,
   "id": "03d0f2d8",
   "metadata": {},
   "outputs": [],
   "source": [
    "import numpy as np"
   ]
  },
  {
   "cell_type": "code",
   "execution_count": 7,
   "id": "8b096b59",
   "metadata": {},
   "outputs": [],
   "source": [
    "from scipy.signal import butter, lfilter, freqz"
   ]
  },
  {
   "cell_type": "code",
   "execution_count": 8,
   "id": "579b8102",
   "metadata": {},
   "outputs": [],
   "source": [
    "from scipy.signal import butter, lfilter, freqz"
   ]
  },
  {
   "cell_type": "code",
   "execution_count": 9,
   "id": "1a79ff70",
   "metadata": {},
   "outputs": [],
   "source": [
    "import matplotlib.pyplot as plt"
   ]
  },
  {
   "cell_type": "code",
   "execution_count": 10,
   "id": "2b7e4d6c",
   "metadata": {},
   "outputs": [],
   "source": [
    "def butter_lowpass(cutoff, fs, order=5):\n",
    "    nyq = 0.5 * fs\n",
    "    normal_cutoff = cutoff / nyq\n",
    "    b, a = butter(order, normal_cutoff, btype='low', analog=False)\n",
    "    return b, a"
   ]
  },
  {
   "cell_type": "code",
   "execution_count": 11,
   "id": "7e497c8a",
   "metadata": {},
   "outputs": [],
   "source": [
    "def butter_lowpass_filter(data, cutoff, fs, order=5):\n",
    "    b, a = butter_lowpass(cutoff, fs, order=order)\n",
    "    y = lfilter(b, a, data)\n",
    "    return y"
   ]
  },
  {
   "cell_type": "code",
   "execution_count": 12,
   "id": "7e84ef78",
   "metadata": {},
   "outputs": [],
   "source": [
    "# Setting standard filter requirements.\n",
    "order = 6\n",
    "fs = 30.0       \n",
    "cutoff = 3.667 "
   ]
  },
  {
   "cell_type": "code",
   "execution_count": 13,
   "id": "08af5167",
   "metadata": {},
   "outputs": [
    {
     "data": {
      "image/png": "[encoded data removed]",
      "text/plain": [
       "<Figure size 432x288 with 1 Axes>"
      ]
     },
     "metadata": {
      "needs_background": "light"
     },
     "output_type": "display_data"
    }
   ],
   "source": [
    "b, a = butter_lowpass(cutoff, fs, order)\n",
    "\n",
    "# Plotting the frequency response.\n",
    "w, h = freqz(b, a, worN=8000)\n",
    "plt.subplot(2, 1, 1)\n",
    "plt.plot(0.5*fs*w/np.pi, np.abs(h), 'b')\n",
    "plt.plot(cutoff, 0.5*np.sqrt(2), 'ko')\n",
    "plt.axvline(cutoff, color='k')\n",
    "plt.xlim(0, 0.5*fs)\n",
    "plt.title(\"Lowpass Filter Frequency Response\")\n",
    "plt.xlabel('Frequency [Hz]')\n",
    "plt.grid()"
   ]
  },
  {
   "cell_type": "code",
   "execution_count": 14,
   "id": "c9753196",
   "metadata": {
    "scrolled": false
   },
   "outputs": [
    {
     "name": "stdout",
     "output_type": "stream",
     "text": [
      "https://raw.githubusercontent.com/joaquinballesteros/walker4forces/main/HS-I.csv\n",
      "https://raw.githubusercontent.com/joaquinballesteros/walker4forces/main/HS-II.csv\n"
     ]
    },
    {
     "name": "stderr",
     "output_type": "stream",
     "text": [
      "  % Total    % Received % Xferd  Average Speed   Time    Time     Time  Current\n",
      "                                 Dload  Upload   Total   Spent    Left  Speed\n",
      "\n",
      "  0     0    0     0    0     0      0      0 --:--:-- --:--:-- --:--:--     0\n",
      "  0     0    0     0    0     0      0      0 --:--:-- --:--:-- --:--:--     0\n",
      "100 12402  100 12402    0     0  14425      0 --:--:-- --:--:-- --:--:-- 14437\n"
     ]
    },
    {
     "name": "stdout",
     "output_type": "stream",
     "text": [
      "https://raw.githubusercontent.com/joaquinballesteros/walker4forces/main/HS-III.csv\n"
     ]
    },
    {
     "name": "stderr",
     "output_type": "stream",
     "text": [
      "  % Total    % Received % Xferd  Average Speed   Time    Time     Time  Current\n",
      "                                 Dload  Upload   Total   Spent    Left  Speed\n",
      "\n",
      "  0     0    0     0    0     0      0      0 --:--:-- --:--:-- --:--:--     0\n",
      "  0     0    0     0    0     0      0      0 --:--:-- --:--:-- --:--:--     0\n",
      "100 20826  100 20826    0     0  27570      0 --:--:-- --:--:-- --:--:-- 27584\n"
     ]
    },
    {
     "name": "stdout",
     "output_type": "stream",
     "text": [
      "https://raw.githubusercontent.com/joaquinballesteros/walker4forces/main/HS-IV.csv\n"
     ]
    },
    {
     "name": "stderr",
     "output_type": "stream",
     "text": [
      "  % Total    % Received % Xferd  Average Speed   Time    Time     Time  Current\n",
      "                                 Dload  Upload   Total   Spent    Left  Speed\n",
      "\n",
      "  0     0    0     0    0     0      0      0 --:--:-- --:--:-- --:--:--     0\n",
      "  0     0    0     0    0     0      0      0 --:--:-- --:--:-- --:--:--     0\n",
      "100 19886  100 19886    0     0  27124      0 --:--:-- --:--:-- --:--:-- 27129\n"
     ]
    },
    {
     "name": "stdout",
     "output_type": "stream",
     "text": [
      "https://raw.githubusercontent.com/joaquinballesteros/walker4forces/main/HS-V.csv\n"
     ]
    },
    {
     "name": "stderr",
     "output_type": "stream",
     "text": [
      "  % Total    % Received % Xferd  Average Speed   Time    Time     Time  Current\n",
      "                                 Dload  Upload   Total   Spent    Left  Speed\n",
      "\n",
      "  0     0    0     0    0     0      0      0 --:--:-- --:--:-- --:--:--     0\n",
      "  0 42850    0     0    0     0      0      0 --:--:-- --:--:-- --:--:--     0\n",
      "100 42850  100 42850    0     0  47081      0 --:--:-- --:--:-- --:--:-- 47087\n"
     ]
    },
    {
     "name": "stdout",
     "output_type": "stream",
     "text": [
      "https://raw.githubusercontent.com/joaquinballesteros/walker4forces/main/HS-VI.csv\n"
     ]
    },
    {
     "name": "stderr",
     "output_type": "stream",
     "text": [
      "  % Total    % Received % Xferd  Average Speed   Time    Time     Time  Current\n",
      "                                 Dload  Upload   Total   Spent    Left  Speed\n",
      "\n",
      "  0     0    0     0    0     0      0      0 --:--:-- --:--:-- --:--:--     0\n",
      "  0     0    0     0    0     0      0      0 --:--:-- --:--:-- --:--:--     0\n",
      "100 23246  100 23246    0     0  27725      0 --:--:-- --:--:-- --:--:-- 27772\n"
     ]
    },
    {
     "name": "stdout",
     "output_type": "stream",
     "text": [
      "https://raw.githubusercontent.com/joaquinballesteros/walker4forces/main/HS-VII.csv\n"
     ]
    },
    {
     "name": "stderr",
     "output_type": "stream",
     "text": [
      "  % Total    % Received % Xferd  Average Speed   Time    Time     Time  Current\n",
      "                                 Dload  Upload   Total   Spent    Left  Speed\n",
      "\n",
      "  0     0    0     0    0     0      0      0 --:--:-- --:--:-- --:--:--     0\n",
      "  0 22122    0     0    0     0      0      0 --:--:-- --:--:-- --:--:--     0\n",
      "100 22122  100 22122    0     0  27655      0 --:--:-- --:--:-- --:--:-- 27652\n"
     ]
    },
    {
     "name": "stdout",
     "output_type": "stream",
     "text": [
      "https://raw.githubusercontent.com/joaquinballesteros/walker4forces/main/HS-VIII.csv\n"
     ]
    },
    {
     "name": "stderr",
     "output_type": "stream",
     "text": [
      "  % Total    % Received % Xferd  Average Speed   Time    Time     Time  Current\n",
      "                                 Dload  Upload   Total   Spent    Left  Speed\n",
      "\n",
      "  0     0    0     0    0     0      0      0 --:--:-- --:--:-- --:--:--     0\n",
      "  0 23302    0     0    0     0      0      0 --:--:-- --:--:-- --:--:--     0\n",
      "100 23302  100 23302    0     0  28948      0 --:--:-- --:--:-- --:--:-- 28946\n"
     ]
    },
    {
     "name": "stdout",
     "output_type": "stream",
     "text": [
      "https://raw.githubusercontent.com/joaquinballesteros/walker4forces/main/HS-IX.csv\n"
     ]
    },
    {
     "name": "stderr",
     "output_type": "stream",
     "text": [
      "  % Total    % Received % Xferd  Average Speed   Time    Time     Time  Current\n",
      "                                 Dload  Upload   Total   Spent    Left  Speed\n",
      "\n",
      "  0     0    0     0    0     0      0      0 --:--:-- --:--:-- --:--:--     0\n",
      " 38 18019   38  6855    0     0   8938      0  0:00:02 --:--:--  0:00:02  8949\n",
      "100 18019  100 18019    0     0  23126      0 --:--:-- --:--:-- --:--:-- 23160\n"
     ]
    },
    {
     "name": "stdout",
     "output_type": "stream",
     "text": [
      "https://raw.githubusercontent.com/joaquinballesteros/walker4forces/main/HS-X.csv\n"
     ]
    },
    {
     "name": "stderr",
     "output_type": "stream",
     "text": [
      "  % Total    % Received % Xferd  Average Speed   Time    Time     Time  Current\n",
      "                                 Dload  Upload   Total   Spent    Left  Speed\n",
      "\n",
      "  0     0    0     0    0     0      0      0 --:--:-- --:--:-- --:--:--     0\n",
      "100 19267  100 19267    0     0  26350      0 --:--:-- --:--:-- --:--:-- 26393\n"
     ]
    },
    {
     "name": "stdout",
     "output_type": "stream",
     "text": [
      "https://raw.githubusercontent.com/joaquinballesteros/walker4forces/main/HS-XI.csv\n"
     ]
    },
    {
     "name": "stderr",
     "output_type": "stream",
     "text": [
      "  % Total    % Received % Xferd  Average Speed   Time    Time     Time  Current\n",
      "                                 Dload  Upload   Total   Spent    Left  Speed\n",
      "\n",
      "  0     0    0     0    0     0      0      0 --:--:-- --:--:-- --:--:--     0\n",
      "100 34712  100 34712    0     0  43177      0 --:--:-- --:--:-- --:--:-- 43281\n"
     ]
    },
    {
     "name": "stdout",
     "output_type": "stream",
     "text": [
      "https://raw.githubusercontent.com/joaquinballesteros/walker4forces/main/HS-XII.csv\n"
     ]
    },
    {
     "name": "stderr",
     "output_type": "stream",
     "text": [
      "  % Total    % Received % Xferd  Average Speed   Time    Time     Time  Current\n",
      "                                 Dload  Upload   Total   Spent    Left  Speed\n",
      "\n",
      "  0     0    0     0    0     0      0      0 --:--:-- --:--:-- --:--:--     0\n",
      "100 30015  100 30015    0     0  37830      0 --:--:-- --:--:-- --:--:-- 37897\n"
     ]
    },
    {
     "name": "stdout",
     "output_type": "stream",
     "text": [
      "https://raw.githubusercontent.com/joaquinballesteros/walker4forces/main/HS-XIII.csv\n"
     ]
    },
    {
     "name": "stderr",
     "output_type": "stream",
     "text": [
      "  % Total    % Received % Xferd  Average Speed   Time    Time     Time  Current\n",
      "                                 Dload  Upload   Total   Spent    Left  Speed\n",
      "\n",
      "  0     0    0     0    0     0      0      0 --:--:-- --:--:-- --:--:--     0\n",
      "  0     0    0     0    0     0      0      0 --:--:-- --:--:-- --:--:--     0\n",
      "100 14081  100 14081    0     0  17336      0 --:--:-- --:--:-- --:--:-- 17341\n"
     ]
    },
    {
     "name": "stdout",
     "output_type": "stream",
     "text": [
      "https://raw.githubusercontent.com/joaquinballesteros/walker4forces/main/HS-XIV.csv\n"
     ]
    },
    {
     "name": "stderr",
     "output_type": "stream",
     "text": [
      "  % Total    % Received % Xferd  Average Speed   Time    Time     Time  Current\n",
      "                                 Dload  Upload   Total   Spent    Left  Speed\n",
      "\n",
      "  0     0    0     0    0     0      0      0 --:--:-- --:--:-- --:--:--     0\n",
      "  0     0    0     0    0     0      0      0 --:--:-- --:--:-- --:--:--     0\n",
      "100 15385  100 15385    0     0  19435      0 --:--:-- --:--:-- --:--:-- 19450\n"
     ]
    },
    {
     "name": "stdout",
     "output_type": "stream",
     "text": [
      "https://raw.githubusercontent.com/joaquinballesteros/walker4forces/main/HS-XV.csv\n"
     ]
    },
    {
     "name": "stderr",
     "output_type": "stream",
     "text": [
      "  % Total    % Received % Xferd  Average Speed   Time    Time     Time  Current\n",
      "                                 Dload  Upload   Total   Spent    Left  Speed\n",
      "\n",
      "  0     0    0     0    0     0      0      0 --:--:-- --:--:-- --:--:--     0\n",
      "  0     0    0     0    0     0      0      0 --:--:-- --:--:-- --:--:--     0\n",
      "100 27342  100 27342    0     0  33568      0 --:--:-- --:--:-- --:--:-- 33589\n"
     ]
    },
    {
     "name": "stdout",
     "output_type": "stream",
     "text": [
      "https://raw.githubusercontent.com/joaquinballesteros/walker4forces/main/HS-XVI.csv\n"
     ]
    },
    {
     "name": "stderr",
     "output_type": "stream",
     "text": [
      "  % Total    % Received % Xferd  Average Speed   Time    Time     Time  Current\n",
      "                                 Dload  Upload   Total   Spent    Left  Speed\n",
      "\n",
      "  0     0    0     0    0     0      0      0 --:--:-- --:--:-- --:--:--     0\n",
      "  0     0    0     0    0     0      0      0 --:--:-- --:--:-- --:--:--     0\n",
      "100 23231  100 23231    0     0  29808      0 --:--:-- --:--:-- --:--:-- 29859\n"
     ]
    },
    {
     "name": "stdout",
     "output_type": "stream",
     "text": [
      "https://raw.githubusercontent.com/joaquinballesteros/walker4forces/main/HS-XVII.csv\n"
     ]
    },
    {
     "name": "stderr",
     "output_type": "stream",
     "text": [
      "  % Total    % Received % Xferd  Average Speed   Time    Time     Time  Current\n",
      "                                 Dload  Upload   Total   Spent    Left  Speed\n",
      "\n",
      "  0     0    0     0    0     0      0      0 --:--:-- --:--:-- --:--:--     0\n",
      "  0 22888    0     0    0     0      0      0 --:--:-- --:--:-- --:--:--     0\n",
      "100 22888  100 22888    0     0  28942      0 --:--:-- --:--:-- --:--:-- 28972\n"
     ]
    },
    {
     "name": "stdout",
     "output_type": "stream",
     "text": [
      "https://raw.githubusercontent.com/joaquinballesteros/walker4forces/main/HS-XVIII.csv\n"
     ]
    },
    {
     "name": "stderr",
     "output_type": "stream",
     "text": [
      "  % Total    % Received % Xferd  Average Speed   Time    Time     Time  Current\n",
      "                                 Dload  Upload   Total   Spent    Left  Speed\n",
      "\n",
      "  0     0    0     0    0     0      0      0 --:--:-- --:--:-- --:--:--     0\n",
      " 17 38419   17  6855    0     0   8900      0  0:00:04 --:--:--  0:00:04  8914\n",
      "100 38419  100 38419    0     0  47518      0 --:--:-- --:--:-- --:--:-- 47548\n"
     ]
    },
    {
     "name": "stdout",
     "output_type": "stream",
     "text": [
      "https://raw.githubusercontent.com/joaquinballesteros/walker4forces/main/HS-XIX.csv\n"
     ]
    },
    {
     "name": "stderr",
     "output_type": "stream",
     "text": [
      "  % Total    % Received % Xferd  Average Speed   Time    Time     Time  Current\n",
      "                                 Dload  Upload   Total   Spent    Left  Speed\n",
      "\n",
      "  0     0    0     0    0     0      0      0 --:--:-- --:--:-- --:--:--     0\n",
      "  0     0    0     0    0     0      0      0 --:--:--  0:00:01 --:--:--     0\n",
      "  0 68337    0     0    0     0      0      0 --:--:--  0:00:01 --:--:--     0\n",
      "100 68337  100 68337    0     0  33247      0  0:00:02  0:00:02 --:--:-- 33286\n"
     ]
    },
    {
     "name": "stdout",
     "output_type": "stream",
     "text": [
      "https://raw.githubusercontent.com/joaquinballesteros/walker4forces/main/HS-XX.csv\n"
     ]
    },
    {
     "name": "stderr",
     "output_type": "stream",
     "text": [
      "  % Total    % Received % Xferd  Average Speed   Time    Time     Time  Current\n",
      "                                 Dload  Upload   Total   Spent    Left  Speed\n",
      "\n",
      "  0     0    0     0    0     0      0      0 --:--:-- --:--:-- --:--:--     0\n",
      "  6 21423    6  1371    0     0   1764      0  0:00:12 --:--:--  0:00:12  1766\n",
      "100 21423  100 21423    0     0  26917      0 --:--:-- --:--:-- --:--:-- 26947\n"
     ]
    },
    {
     "name": "stdout",
     "output_type": "stream",
     "text": [
      "https://raw.githubusercontent.com/joaquinballesteros/walker4forces/main/OS-I.csv\n"
     ]
    },
    {
     "name": "stderr",
     "output_type": "stream",
     "text": [
      "  % Total    % Received % Xferd  Average Speed   Time    Time     Time  Current\n",
      "                                 Dload  Upload   Total   Spent    Left  Speed\n",
      "\n",
      "  0     0    0     0    0     0      0      0 --:--:-- --:--:-- --:--:--     0\n",
      "  0  9147    0     0    0     0      0      0 --:--:-- --:--:-- --:--:--     0\n",
      "100  9147  100  9147    0     0  11758      0 --:--:-- --:--:-- --:--:-- 11772\n"
     ]
    },
    {
     "name": "stdout",
     "output_type": "stream",
     "text": [
      "https://raw.githubusercontent.com/joaquinballesteros/walker4forces/main/OS-II.csv\n"
     ]
    },
    {
     "name": "stderr",
     "output_type": "stream",
     "text": [
      "  % Total    % Received % Xferd  Average Speed   Time    Time     Time  Current\n",
      "                                 Dload  Upload   Total   Spent    Left  Speed\n",
      "\n",
      "  0     0    0     0    0     0      0      0 --:--:-- --:--:-- --:--:--     0\n",
      "  0 54005    0     0    0     0      0      0 --:--:--  0:00:01 --:--:--     0\n",
      "100 54005  100 54005    0     0  47721      0  0:00:01  0:00:01 --:--:-- 47792\n"
     ]
    },
    {
     "name": "stdout",
     "output_type": "stream",
     "text": [
      "https://raw.githubusercontent.com/joaquinballesteros/walker4forces/main/OS-III.csv\n"
     ]
    },
    {
     "name": "stderr",
     "output_type": "stream",
     "text": [
      "  % Total    % Received % Xferd  Average Speed   Time    Time     Time  Current\n",
      "                                 Dload  Upload   Total   Spent    Left  Speed\n",
      "\n",
      "  0     0    0     0    0     0      0      0 --:--:-- --:--:-- --:--:--     0\n",
      "  0     0    0     0    0     0      0      0 --:--:--  0:00:01 --:--:--     0\n",
      "  0 11.0M    0 42843    0     0  27150      0  0:07:05  0:00:01  0:07:04 27150\n",
      "  5 11.0M    5  591k    0     0   234k      0  0:00:48  0:00:02  0:00:46  235k\n",
      "  9 11.0M    9 1023k    0     0   291k      0  0:00:38  0:00:03  0:00:35  291k\n",
      " 14 11.0M   14 1631k    0     0   345k      0  0:00:32  0:00:04  0:00:28  345k\n",
      " 17 11.0M   17 2015k    0     0   365k      0  0:00:30  0:00:05  0:00:25  485k\n",
      " 21 11.0M   21 2479k    0     0   380k      0  0:00:29  0:00:06  0:00:23  493k\n",
      " 25 11.0M   25 2895k    0     0   385k      0  0:00:29  0:00:07  0:00:22  460k\n",
      " 30 11.0M   30 3391k    0     0   398k      0  0:00:28  0:00:08  0:00:20  473k\n",
      " 34 11.0M   34 3855k    0     0   405k      0  0:00:27  0:00:09  0:00:18  464k\n",
      " 38 11.0M   38 4335k    0     0   412k      0  0:00:27  0:00:10  0:00:17  464k\n",
      " 42 11.0M   42 4815k    0     0   418k      0  0:00:26  0:00:11  0:00:15  467k\n",
      " 46 11.0M   46 5279k    0     0   417k      0  0:00:27  0:00:12  0:00:15  465k\n",
      " 49 11.0M   49 5599k    0     0   411k      0  0:00:27  0:00:13  0:00:14  433k\n",
      " 50 11.0M   50 5695k    0     0   391k      0  0:00:28  0:00:14  0:00:14  365k\n",
      " 51 11.0M   51 5759k    0     0   371k      0  0:00:30  0:00:15  0:00:15  284k\n",
      " 52 11.0M   52 5871k    0     0   355k      0  0:00:31  0:00:16  0:00:15  210k\n",
      " 53 11.0M   53 6031k    0     0   344k      0  0:00:32  0:00:17  0:00:15  154k\n",
      " 55 11.0M   55 6223k    0     0   336k      0  0:00:33  0:00:18  0:00:15  127k\n",
      " 56 11.0M   56 6399k    0     0   327k      0  0:00:34  0:00:19  0:00:15  141k\n",
      " 58 11.0M   58 6575k    0     0   320k      0  0:00:35  0:00:20  0:00:15  163k\n",
      " 60 11.0M   60 6799k    0     0   315k      0  0:00:35  0:00:21  0:00:14  183k\n",
      " 61 11.0M   61 6943k    0     0   308k      0  0:00:36  0:00:22  0:00:14  182k\n",
      " 62 11.0M   62 7007k    0     0   297k      0  0:00:37  0:00:23  0:00:14  154k\n",
      " 62 11.0M   62 7071k    0     0   288k      0  0:00:39  0:00:24  0:00:15  134k\n",
      " 63 11.0M   63 7167k    0     0   280k      0  0:00:40  0:00:25  0:00:15  118k\n",
      " 64 11.0M   64 7311k    0     0   275k      0  0:00:40  0:00:26  0:00:14  103k\n",
      " 66 11.0M   66 7519k    0     0   273k      0  0:00:41  0:00:27  0:00:14  115k\n",
      " 68 11.0M   68 7775k    0     0   272k      0  0:00:41  0:00:28  0:00:13  155k\n",
      " 71 11.0M   71 8111k    0     0   274k      0  0:00:41  0:00:29  0:00:12  208k\n",
      " 76 11.0M   76 8639k    0     0   283k      0  0:00:39  0:00:30  0:00:09  294k\n",
      " 80 11.0M   80 9103k    0     0   288k      0  0:00:39  0:00:31  0:00:08  359k\n",
      " 85 11.0M   85 9623k    0     0   295k      0  0:00:38  0:00:32  0:00:06  421k\n",
      " 89 11.0M   89  9.8M    0     0   301k      0  0:00:37  0:00:33  0:00:04  465k\n",
      " 93 11.0M   93 10.3M    0     0   306k      0  0:00:36  0:00:34  0:00:02  490k\n",
      " 97 11.0M   97 10.7M    0     0   310k      0  0:00:36  0:00:35  0:00:01  477k\n",
      "100 11.0M  100 11.0M    0     0   313k      0  0:00:35  0:00:35 --:--:--  486k\n"
     ]
    },
    {
     "name": "stdout",
     "output_type": "stream",
     "text": [
      "https://raw.githubusercontent.com/joaquinballesteros/walker4forces/main/OS-IV.csv\n"
     ]
    },
    {
     "name": "stderr",
     "output_type": "stream",
     "text": [
      "  % Total    % Received % Xferd  Average Speed   Time    Time     Time  Current\n",
      "                                 Dload  Upload   Total   Spent    Left  Speed\n",
      "\n",
      "  0     0    0     0    0     0      0      0 --:--:-- --:--:-- --:--:--     0\n",
      "  0 34709    0     0    0     0      0      0 --:--:-- --:--:-- --:--:--     0\n",
      "100 34709  100 34709    0     0  42238      0 --:--:-- --:--:-- --:--:-- 42276\n"
     ]
    },
    {
     "name": "stdout",
     "output_type": "stream",
     "text": [
      "https://raw.githubusercontent.com/joaquinballesteros/walker4forces/main/OS-V.csv\n"
     ]
    },
    {
     "name": "stderr",
     "output_type": "stream",
     "text": [
      "  % Total    % Received % Xferd  Average Speed   Time    Time     Time  Current\n",
      "                                 Dload  Upload   Total   Spent    Left  Speed\n",
      "\n",
      "  0     0    0     0    0     0      0      0 --:--:-- --:--:-- --:--:--     0\n",
      "  0 45400    0     0    0     0      0      0 --:--:-- --:--:-- --:--:--     0\n",
      "100 45400  100 45400    0     0  47177      0 --:--:-- --:--:-- --:--:-- 47193\n"
     ]
    },
    {
     "name": "stdout",
     "output_type": "stream",
     "text": [
      "https://raw.githubusercontent.com/joaquinballesteros/walker4forces/main/OS-VI.csv\n"
     ]
    },
    {
     "name": "stderr",
     "output_type": "stream",
     "text": [
      "  % Total    % Received % Xferd  Average Speed   Time    Time     Time  Current\n",
      "                                 Dload  Upload   Total   Spent    Left  Speed\n",
      "\n",
      "  0     0    0     0    0     0      0      0 --:--:-- --:--:-- --:--:--     0\n",
      "  7 36509    7  2742    0     0   3415      0  0:00:10 --:--:--  0:00:10  3418\n",
      "100 36509  100 36509    0     0  43258      0 --:--:-- --:--:-- --:--:-- 43308\n"
     ]
    },
    {
     "name": "stdout",
     "output_type": "stream",
     "text": [
      "https://raw.githubusercontent.com/joaquinballesteros/walker4forces/main/OS-VII.csv\n"
     ]
    },
    {
     "name": "stderr",
     "output_type": "stream",
     "text": [
      "  % Total    % Received % Xferd  Average Speed   Time    Time     Time  Current\n",
      "                                 Dload  Upload   Total   Spent    Left  Speed\n",
      "\n",
      "  0     0    0     0    0     0      0      0 --:--:-- --:--:-- --:--:--     0\n",
      "  4 29006    4  1371    0     0   1752      0  0:00:16 --:--:--  0:00:16  1755\n",
      "100 29006  100 29006    0     0  31927      0 --:--:-- --:--:-- --:--:-- 31980\n"
     ]
    },
    {
     "name": "stdout",
     "output_type": "stream",
     "text": [
      "https://raw.githubusercontent.com/joaquinballesteros/walker4forces/main/OS-VIII.csv\n"
     ]
    },
    {
     "name": "stderr",
     "output_type": "stream",
     "text": [
      "  % Total    % Received % Xferd  Average Speed   Time    Time     Time  Current\n",
      "                                 Dload  Upload   Total   Spent    Left  Speed\n",
      "\n",
      "  0     0    0     0    0     0      0      0 --:--:-- --:--:-- --:--:--     0\n",
      "  0 24885    0     0    0     0      0      0 --:--:--  0:00:01 --:--:--     0\n",
      "100 24885  100 24885    0     0  20008      0  0:00:01  0:00:01 --:--:-- 20036\n"
     ]
    },
    {
     "name": "stdout",
     "output_type": "stream",
     "text": [
      "https://raw.githubusercontent.com/joaquinballesteros/walker4forces/main/OS-IX.csv\n"
     ]
    },
    {
     "name": "stderr",
     "output_type": "stream",
     "text": [
      "  % Total    % Received % Xferd  Average Speed   Time    Time     Time  Current\n",
      "                                 Dload  Upload   Total   Spent    Left  Speed\n",
      "\n",
      "  0     0    0     0    0     0      0      0 --:--:-- --:--:-- --:--:--     0\n",
      "  0     0    0     0    0     0      0      0 --:--:-- --:--:-- --:--:--     0\n",
      "  0     0    0     0    0     0      0      0 --:--:--  0:00:01 --:--:--     0\n",
      " 70 39546   70 27870    0     0  12739      0  0:00:03  0:00:02  0:00:01 12743\n",
      "100 39546  100 39546    0     0  17853      0  0:00:02  0:00:02 --:--:-- 17861\n"
     ]
    },
    {
     "name": "stdout",
     "output_type": "stream",
     "text": [
      "https://raw.githubusercontent.com/joaquinballesteros/walker4forces/main/OS-X.csv\n"
     ]
    },
    {
     "name": "stderr",
     "output_type": "stream",
     "text": [
      "  % Total    % Received % Xferd  Average Speed   Time    Time     Time  Current\n",
      "                                 Dload  Upload   Total   Spent    Left  Speed\n",
      "\n",
      "  0     0    0     0    0     0      0      0 --:--:-- --:--:-- --:--:--     0\n",
      "  0     0    0     0    0     0      0      0 --:--:-- --:--:-- --:--:--     0\n",
      " 15 35366   15  5484    0     0   2848      0  0:00:12  0:00:01  0:00:11  2848\n",
      "100 35366  100 35366    0     0  10164      0  0:00:03  0:00:03 --:--:-- 10168\n",
      "100 35366  100 35366    0     0  10163      0  0:00:03  0:00:03 --:--:-- 10168\n"
     ]
    },
    {
     "name": "stdout",
     "output_type": "stream",
     "text": [
      "https://raw.githubusercontent.com/joaquinballesteros/walker4forces/main/OS-XI.csv\n"
     ]
    },
    {
     "name": "stderr",
     "output_type": "stream",
     "text": [
      "  % Total    % Received % Xferd  Average Speed   Time    Time     Time  Current\n",
      "                                 Dload  Upload   Total   Spent    Left  Speed\n",
      "\n",
      "  0     0    0     0    0     0      0      0 --:--:-- --:--:-- --:--:--     0\n",
      "  0     0    0     0    0     0      0      0 --:--:-- --:--:-- --:--:--     0\n",
      "100 38428  100 38428    0     0  47887      0 --:--:-- --:--:-- --:--:-- 47915\n"
     ]
    },
    {
     "name": "stdout",
     "output_type": "stream",
     "text": [
      "https://raw.githubusercontent.com/joaquinballesteros/walker4forces/main/OS-XII.csv\n"
     ]
    },
    {
     "name": "stderr",
     "output_type": "stream",
     "text": [
      "  % Total    % Received % Xferd  Average Speed   Time    Time     Time  Current\n",
      "                                 Dload  Upload   Total   Spent    Left  Speed\n",
      "\n",
      "  0     0    0     0    0     0      0      0 --:--:-- --:--:-- --:--:--     0\n",
      "  0 43786    0     0    0     0      0      0 --:--:-- --:--:-- --:--:--     0\n",
      "100 43786  100 43786    0     0  45130      0 --:--:-- --:--:-- --:--:-- 45140\n"
     ]
    },
    {
     "name": "stdout",
     "output_type": "stream",
     "text": [
      "https://raw.githubusercontent.com/joaquinballesteros/walker4forces/main/OS-XIII.csv\n"
     ]
    },
    {
     "name": "stderr",
     "output_type": "stream",
     "text": [
      "  % Total    % Received % Xferd  Average Speed   Time    Time     Time  Current\n",
      "                                 Dload  Upload   Total   Spent    Left  Speed\n",
      "\n",
      "  0     0    0     0    0     0      0      0 --:--:-- --:--:-- --:--:--     0\n",
      "  0     0    0     0    0     0      0      0 --:--:-- --:--:-- --:--:--     0\n",
      "100 34239  100 34239    0     0  26429      0  0:00:01  0:00:01 --:--:-- 26459\n"
     ]
    },
    {
     "name": "stdout",
     "output_type": "stream",
     "text": [
      "https://raw.githubusercontent.com/joaquinballesteros/walker4forces/main/OS-XIV.csv\n"
     ]
    },
    {
     "name": "stderr",
     "output_type": "stream",
     "text": [
      "  % Total    % Received % Xferd  Average Speed   Time    Time     Time  Current\n",
      "                                 Dload  Upload   Total   Spent    Left  Speed\n",
      "\n",
      "  0     0    0     0    0     0      0      0 --:--:-- --:--:-- --:--:--     0\n",
      "100 44647  100 44647    0     0  50226      0 --:--:-- --:--:-- --:--:-- 50334\n"
     ]
    },
    {
     "name": "stdout",
     "output_type": "stream",
     "text": [
      "https://raw.githubusercontent.com/joaquinballesteros/walker4forces/main/OS-XV.csv\n"
     ]
    },
    {
     "name": "stderr",
     "output_type": "stream",
     "text": [
      "  % Total    % Received % Xferd  Average Speed   Time    Time     Time  Current\n",
      "                                 Dload  Upload   Total   Spent    Left  Speed\n",
      "\n",
      "  0     0    0     0    0     0      0      0 --:--:-- --:--:-- --:--:--     0\n",
      "100 25993  100 25993    0     0  32856      0 --:--:-- --:--:-- --:--:-- 32902\n"
     ]
    },
    {
     "name": "stdout",
     "output_type": "stream",
     "text": [
      "https://raw.githubusercontent.com/joaquinballesteros/walker4forces/main/OS-XVI.csv\n"
     ]
    },
    {
     "name": "stderr",
     "output_type": "stream",
     "text": [
      "  % Total    % Received % Xferd  Average Speed   Time    Time     Time  Current\n",
      "                                 Dload  Upload   Total   Spent    Left  Speed\n",
      "\n",
      "  0     0    0     0    0     0      0      0 --:--:-- --:--:-- --:--:--     0\n",
      "100 35274  100 35274    0     0  43585      0 --:--:-- --:--:-- --:--:-- 43655\n"
     ]
    },
    {
     "name": "stdout",
     "output_type": "stream",
     "text": [
      "https://raw.githubusercontent.com/joaquinballesteros/walker4forces/main/OS-XVII.csv\n"
     ]
    },
    {
     "name": "stderr",
     "output_type": "stream",
     "text": [
      "  % Total    % Received % Xferd  Average Speed   Time    Time     Time  Current\n",
      "                                 Dload  Upload   Total   Spent    Left  Speed\n",
      "\n",
      "  0     0    0     0    0     0      0      0 --:--:-- --:--:-- --:--:--     0\n",
      "  0     0    0     0    0     0      0      0 --:--:-- --:--:-- --:--:--     0\n",
      "100 21514  100 21514    0     0  25346      0 --:--:-- --:--:-- --:--:-- 25370\n"
     ]
    },
    {
     "name": "stdout",
     "output_type": "stream",
     "text": [
      "https://raw.githubusercontent.com/joaquinballesteros/walker4forces/main/OS-XVIII.csv\n"
     ]
    },
    {
     "name": "stderr",
     "output_type": "stream",
     "text": [
      "  % Total    % Received % Xferd  Average Speed   Time    Time     Time  Current\n",
      "                                 Dload  Upload   Total   Spent    Left  Speed\n",
      "\n",
      "  0     0    0     0    0     0      0      0 --:--:-- --:--:-- --:--:--     0\n",
      "  0     0    0     0    0     0      0      0 --:--:-- --:--:-- --:--:--     0\n",
      "100 31803  100 31803    0     0  39293      0 --:--:-- --:--:-- --:--:-- 39311\n"
     ]
    },
    {
     "name": "stdout",
     "output_type": "stream",
     "text": [
      "https://raw.githubusercontent.com/joaquinballesteros/walker4forces/main/OS-XIX.csv\n"
     ]
    },
    {
     "name": "stderr",
     "output_type": "stream",
     "text": [
      "  % Total    % Received % Xferd  Average Speed   Time    Time     Time  Current\n",
      "                                 Dload  Upload   Total   Spent    Left  Speed\n",
      "\n",
      "  0     0    0     0    0     0      0      0 --:--:-- --:--:-- --:--:--     0\n",
      "  0     0    0     0    0     0      0      0 --:--:-- --:--:-- --:--:--     0\n",
      "100 35708  100 35708    0     0  44873      0 --:--:-- --:--:-- --:--:-- 44915\n"
     ]
    },
    {
     "name": "stdout",
     "output_type": "stream",
     "text": [
      "https://raw.githubusercontent.com/joaquinballesteros/walker4forces/main/OS-XX.csv\n"
     ]
    },
    {
     "name": "stderr",
     "output_type": "stream",
     "text": [
      "  % Total    % Received % Xferd  Average Speed   Time    Time     Time  Current\n",
      "                                 Dload  Upload   Total   Spent    Left  Speed\n",
      "\n",
      "  0     0    0     0    0     0      0      0 --:--:-- --:--:-- --:--:--     0\n",
      "  0     0    0     0    0     0      0      0 --:--:-- --:--:-- --:--:--     0\n",
      "100 25481  100 25481    0     0  32466      0 --:--:-- --:--:-- --:--:-- 32501\n",
      "  % Total    % Received % Xferd  Average Speed   Time    Time     Time  Current\n",
      "                                 Dload  Upload   Total   Spent    Left  Speed\n",
      "\n",
      "  0     0    0     0    0     0      0      0 --:--:-- --:--:-- --:--:--     0\n",
      "  0 22919    0     0    0     0      0      0 --:--:-- --:--:-- --:--:--     0\n",
      "100 22919  100 22919    0     0  23061      0 --:--:-- --:--:-- --:--:-- 23080\n",
      "  % Total    % Received % Xferd  Average Speed   Time    Time     Time  Current\n",
      "                                 Dload  Upload   Total   Spent    Left  Speed\n",
      "\n",
      "  0     0    0     0    0     0      0      0 --:--:-- --:--:-- --:--:--     0\n",
      "  0     0    0     0    0     0      0      0 --:--:-- --:--:-- --:--:--     0\n",
      "100    14  100    14    0     0      8      0  0:00:01  0:00:01 --:--:--     8\n",
      "100    14  100    14    0     0      8      0  0:00:01  0:00:01 --:--:--     8\n",
      "  % Total    % Received % Xferd  Average Speed   Time    Time     Time  Current\n",
      "                                 Dload  Upload   Total   Spent    Left  Speed\n",
      "\n",
      "  0     0    0     0    0     0      0      0 --:--:-- --:--:-- --:--:--     0\n",
      "100    14  100    14    0     0     14      0  0:00:01 --:--:--  0:00:01    14\n",
      "100    14  100    14    0     0     14      0  0:00:01 --:--:--  0:00:01    14\n"
     ]
    }
   ],
   "source": [
    "#We download all the CSVs files from gitHub\n",
    "#Do only one time, after open the program\n",
    "#You can check that the files appears after download them\n",
    "\n",
    "patients=[\"HS-I\",\"HS-II\",\"HS-III\",\"HS-IV\",\"HS-V\",\"HS-VI\",\"HS-VII\",\"HS-VIII\",\"HS-IX\",\"HS-X\",\"HS-XI\",\"HS-XII\",\"HS-XIII\",\"HS-XIV\",\"HS-XV\",\"HS-XVI\",\"HS-XVII\",\"HS-XVIII\",\"HS-XIX\",\"HS-XX\",\"OS-I\",\"OS-II\",\"OS-III\",\"OS-IV\",\"OS-V\",\"OS-VI\",\"OS-VII\",\"OS-VIII\",\"OS-IX\",\"OS-X\",\"OS-XI\",\"OS-XII\",\"OS-XIII\",\"OS-XIV\",\"OS-XV\",\"OS-XVI\",\"OS-XVII\",\"OS-XVIII\",\"OS-XIX\",\"OS-XX\"]\n",
    "\n",
    "\n",
    "for cc in range(0,len(patients)):\n",
    "  name = str(patients[cc]) +\".csv\"\n",
    "  direction=\"https://raw.githubusercontent.com/joaquinballesteros/walker4forces/main/\" + name\n",
    "\n",
    "  print(direction)\n",
    "  !curl -o $name $direction\n",
    "\n",
    "direction=\"https://raw.githubusercontent.com/joaquinballesteros/walker4forces/main/data/Healthy.cvs\"\n",
    "!curl -o healthy.csv $direction\n",
    "\n",
    "direction=\"https://raw.githubusercontent.com/joaquinballesteros/walker4forces/main/data/Osteoporotic.cvs\"\n",
    "!curl -o osteoporotic.csv $direction\n"
   ]
  },
  {
   "cell_type": "code",
   "execution_count": 15,
   "id": "4a203ebf",
   "metadata": {},
   "outputs": [
    {
     "name": "stdout",
     "output_type": "stream",
     "text": [
      "HS-XX.csv\n",
      "OS-I.csv\n",
      "[[18.50865471 32.76932735 28.33596413 33.1226009 ]\n",
      " [14.0945056   6.59386194 -4.32278918 10.77296642]]\n",
      "[0. 1.]\n"
     ]
    }
   ],
   "source": [
    "from pandas.core.indexes.multi import names_compat\n",
    "from operator import length_hint\n",
    "#Filtering signal and creating a dataset per person\n",
    "import pandas as pd\n",
    "import io\n",
    "import numpy as np\n",
    "\n",
    "\n",
    "#We create two array inside user, one with the data and the other wiht ID\n",
    "userdata = { \"data\":[],\"label\":[]}\n",
    "\n",
    " \n",
    "\n",
    "#generate dataset\n",
    "formPatient=19\n",
    "toPatient=21 # len(patients)\n",
    "\n",
    "userlabel = np.empty((toPatient-formPatient))\n",
    "\n",
    "for cc in range(formPatient,toPatient):\n",
    "  \n",
    "  name = str(patients[cc]) +\".csv\"\n",
    "  print(name)\n",
    "  df2 = pd.read_csv(name)\n",
    "  userdata[\"data\"].append(df2)\n",
    "\n",
    "  #The label will be used to classify, 0 will be OK and 1 will be osteoporetic.\n",
    "  if (name[0]==\"H\"):\n",
    "    userlabel[cc-formPatient] = 0\n",
    "  else:\n",
    "    userlabel[cc-formPatient] = 1\n",
    "\n",
    "  \n",
    "\n",
    "#Now it is time to process and extract features from each patient\n",
    "#Example for 4 features.\n",
    "userfeature = np.empty((toPatient-formPatient, 4))\n",
    "\n",
    "#for id in range(0,len(patients)):\n",
    "for id in range(formPatient,toPatient):\n",
    "  dataPatient = userdata[\"data\"][id-formPatient]\n",
    "  userfeature[id-formPatient,0]=np.average(dataPatient.iloc[:,2]) #Average force 1\n",
    "  userfeature[id-formPatient,1]=np.average(dataPatient.iloc[:,3]) #Average force 2\n",
    "  userfeature[id-formPatient,2]=np.average(dataPatient.iloc[:,4]) #Average force 3\n",
    "  userfeature[id-formPatient,3]=np.average(dataPatient.iloc[:,5]) #Average force 4\n",
    " \n",
    "print(userfeature)\n",
    "print(userlabel)\n",
    "\n",
    "\n"
   ]
  },
  {
   "cell_type": "code",
   "execution_count": 18,
   "id": "e58adf16",
   "metadata": {},
   "outputs": [
    {
     "name": "stdout",
     "output_type": "stream",
     "text": [
      "1.0\n"
     ]
    },
    {
     "name": "stderr",
     "output_type": "stream",
     "text": [
      "C:\\Users\\AA\\AppData\\Local\\Programs\\Python\\Python310\\lib\\site-packages\\sklearn\\linear_model\\_stochastic_gradient.py:696: ConvergenceWarning: Maximum number of iteration reached before convergence. Consider increasing max_iter to improve the fit.\n",
      "  warnings.warn(\n"
     ]
    }
   ],
   "source": [
    "#Its time to learn https://scikit-learn.org/stable/modules/sgd.html#classification or other\n",
    "#How to validate you result https://scikit-learn.org/stable/modules/cross_validation.html\n",
    "from sklearn.linear_model import SGDClassifier\n",
    "from sklearn.model_selection import train_test_split\n",
    "\n",
    "X = userfeature\n",
    "y = userlabel\n",
    "\n",
    "#X_train, X_test, y_train, y_test = train_test_split(X, y, test_size=0.2, random_state=0)\n",
    "X_train = X\n",
    "y_train = y\n",
    "\n",
    "clf = SGDClassifier(loss=\"hinge\", penalty=\"l2\", max_iter=5)\n",
    "clf.fit(X_train, y_train)\n",
    "print(clf.score(X_train, y_train))\n",
    "\n"
   ]
  },
  {
   "cell_type": "code",
   "execution_count": null,
   "id": "1a6560db",
   "metadata": {},
   "outputs": [],
   "source": []
  }
 ],
 "metadata": {
  "kernelspec": {
   "display_name": "Python 3 (ipykernel)",
   "language": "python",
   "name": "python3"
  },
  "language_info": {
   "codemirror_mode": {
    "name": "ipython",
    "version": 3
   },
   "file_extension": ".py",
   "mimetype": "text/x-python",
   "name": "python",
   "nbconvert_exporter": "python",
   "pygments_lexer": "ipython3",
   "version": "3.10.1"
  }
 },
 "nbformat": 4,
 "nbformat_minor": 5
}
